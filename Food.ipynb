{
 "cells": [
  {
   "cell_type": "code",
   "execution_count": 12,
   "metadata": {},
   "outputs": [],
   "source": [
    "from skimage.io import imread\n",
    "from skimage.transform import resize\n",
    "import pandas as pd\n",
    "import numpy as np\n",
    "import os\n",
    "from sklearn.model_selection import train_test_split\n",
    "from sklearn.tree import DecisionTreeClassifier as dtc\n",
    "from sklearn.preprocessing import MinMaxScaler as mms\n",
    "from sklearn.metrics import confusion_matrix as cm, accuracy_score\n",
    "import random\n",
    "import pickle"
   ]
  },
  {
   "cell_type": "code",
   "execution_count": 23,
   "metadata": {},
   "outputs": [],
   "source": [
    "def trainfunc(image_dir):\n",
    "    \n",
    "    Categories = os.listdir(image_dir)\n",
    "    Categories\n",
    "    input_arr = []\n",
    "    output_arr = []\n",
    "\n",
    "    for i in Categories:\n",
    "        print(f'Loading Category {i}')\n",
    "        path = os.path.join(image_dir, i)\n",
    "        for img in os.listdir(path):\n",
    "            image_arr = imread(os.path.join(path, img))\n",
    "            img_rsz = resize(image_arr, (150,150,3))\n",
    "            input_arr.append(img_rsz.flatten())\n",
    "            output_arr.append(Categories.index(i))\n",
    "        print(f'Loaded Category {i} Succesfully')\n",
    "        print(f\"The code in output array is {Categories.index(i)}\")\n",
    "    flat_data = np.array(input_arr)\n",
    "    target = np.array(output_arr)\n",
    "\n",
    "    df = pd.DataFrame(flat_data)\n",
    "    df['Target'] = target\n",
    "    df.shape\n",
    "\n",
    "    x = df.iloc[:,:-1]\n",
    "    y = df.iloc[:,-1]\n",
    "    xtrain, xtest, ytrain, ytest = train_test_split(x,y,test_size=0.2, random_state=47, stratify=y)\n",
    "    print(\"Model is being trained\")\n",
    "\n",
    "    model = dtc(criterion='gini', splitter='best').fit(xtrain, ytrain)\n",
    "\n",
    "    print(f'Model has been trained\\n Testing')\n",
    "\n",
    "    ypreds = model.predict(xtest)\n",
    "\n",
    "    cm_report = cm(ytest, ypreds)\n",
    "    acc = accuracy_score(ytest, ypreds)\n",
    "    print(f\"Accuracy of the model is {round((acc*100),2)}%\")\n",
    "    print(f\"Confusion Matrix:\\n{cm_report}\")\n",
    "    return model\n"
   ]
  },
  {
   "cell_type": "code",
   "execution_count": null,
   "metadata": {},
   "outputs": [],
   "source": [
    "image_dir = r\"PRODIGY_ML_05\\Food\"\n",
    "model = trainfunc(image_dir)\n",
    "Categories = os.listdir(image_dir)\n"
   ]
  },
  {
   "cell_type": "code",
   "execution_count": null,
   "metadata": {},
   "outputs": [],
   "source": [
    "def food_nutrition(model, img, Categories):\n",
    "    \n",
    "    img = imread(os.path.join(pathu, rand_img))\n",
    "    img_rsz = resize(img, (150,150,3)).flatten()\n",
    "\n",
    "\n",
    "    val = Categories[model.predict(img_rsz.reshape(1,-1))[0]]\n",
    "    print(f\"The item in the picture is {val}\")\n",
    "\n",
    "    calorie_dict = {\n",
    "        'Apple' : {'Calories': 52, 'Carbs': 14, 'Protein': 0.3, 'Fat': 0.2, 'Others': 'Vitamin C, Magnesium, Potassium'},\n",
    "        'Banana' : {'Calories': 89, 'Carbs': 23, 'Protein': 1.1, 'Fat': 0.3, 'Others': 'Potassium, Vitamin C, Vitamin B6'},\n",
    "        'Bread' : {'Calories': 265, 'Carbs': 49, 'Protein': 9, 'Fat':3.2, 'Others': 'Sodium, Calcium, Iron'},\n",
    "        'Egg' : {'Calories': 155, 'Carbs': 1.1, 'Protein': 13, 'Fat': 11, 'Others': 'Vitamin D, Cobalamin, Iron'},\n",
    "        'Grape': {'Calories': 67, 'Carbs': 17, 'Protein': 0.6, 'Fat': 0.4, 'Others': 'Vitamin C, Vitamin B6, Potassium'}\n",
    "    }\n",
    "    for i in calorie_dict[val]:\n",
    "        print(f\"{i}:{calorie_dict[val].get(i)}\")\n",
    "    print(f\"(units for calories is kcal, rest are grams)\\n the values are per 100 grams of the food item {val}\")\n",
    "\n"
   ]
  },
  {
   "cell_type": "code",
   "execution_count": null,
   "metadata": {},
   "outputs": [],
   "source": [
    "path_test = \"\\.\\\\PRODIGY_ML_05\\\\Test\"\n",
    "rand_img = random.choice(os.listdir(pathu))\n",
    "food_nutrition(model, rand_img, Categories)\n",
    "\n",
    "model_pkl_file = r\"D:\\ProdigyInfotech\\Task05\n",
    "# for saving\n",
    "with open(model_pkl_file, 'wb') as file: \n",
    "    pickle.dump(model, file)\n",
    "\n",
    "# for loading\n",
    "model_pkl_file = r\"D:\\ProdigyInfotech\\Task05\n",
    "with open(model_pkl_file, 'rb') as file:\n",
    "    model = pickle.load(file)\n",
    "\n"
   ]
  }
 ],
 "metadata": {
  "kernelspec": {
   "display_name": "Python 3",
   "language": "python",
   "name": "python3"
  },
  "language_info": {
   "codemirror_mode": {
    "name": "ipython",
    "version": 3
   },
   "file_extension": ".py",
   "mimetype": "text/x-python",
   "name": "python",
   "nbconvert_exporter": "python",
   "pygments_lexer": "ipython3",
   "version": "3.12.2"
  }
 },
 "nbformat": 4,
 "nbformat_minor": 2
}
